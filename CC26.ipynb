{
 "cells": [
  {
   "cell_type": "markdown",
   "metadata": {},
   "source": [
    "# 26章　コードチューニングテクニック\n",
    "- この章では、速度の改善を主に扱う。コードを小さくする方法も一部扱う\n",
    "\n",
    "## コードチューニングとリファクタリングの違い\n",
    "- コードチューニング:内部構造を改悪する代わりに、パフォーマンスをえること\n",
    "- リファクタリング:振る舞いを変えずに、内部構造を改善すること\n",
    "\n",
    "## コードチューニングのテクニック\n",
    "## ロジック\n",
    "### 答えがわかったところで評価をやめる\n",
    "1. 短絡評価をつかうこと　\n",
    "    - pythonの場合はand、orは短絡評価なので気にしなくても良い\n",
    "2. 検索ループなどで、その値が見つかったら終わるようにする\n",
    "\n",
    "### 頻度順の評価\n",
    "- 複数のものを評価する場合、真になる確率が高いものを一番上にもってくる\n",
    "- [コメント]pythonで実際にやってみたら、逆に遅くなった・・・。ちなみに、pythonにはCase文はない"
   ]
  },
  {
   "cell_type": "code",
   "execution_count": 1,
   "metadata": {
    "collapsed": false
   },
   "outputs": [],
   "source": [
    "#ISIDの社員の居住地検索のダメな例\n",
    "adress_list =[\"東京\",\"東京\",\"広島\",\"東京\",\"東京\",\"広島\",\"東京\",\"東京\",\"海外\",\"東京\",\"東京\",\"広島\",\"東京\",\"東京\",\"広島\",\"東京\",\"東京\",\"海外\"] \n",
    "\n",
    "def bad_method(adress_list):\n",
    "    for adress in adress_list:\n",
    "        if (adress == \"海外\"):\n",
    "            x =  1\n",
    "        elif (adress == \"広島\"):\n",
    "            x = 2\n",
    "        elif (adress == \"東京\"):\n",
    "            x =  3\n",
    "            \n",
    "def good_method(adress_list):\n",
    "    for adress in adress_list:\n",
    "        if (adress == \"東京\"):\n",
    "            x =  1\n",
    "        elif (adress == \"広島\"):\n",
    "            x = 2\n",
    "        elif (adress == \"海外\"):\n",
    "            x =  3"
   ]
  },
  {
   "cell_type": "code",
   "execution_count": 2,
   "metadata": {
    "collapsed": false
   },
   "outputs": [
    {
     "name": "stdout",
     "output_type": "stream",
     "text": [
      "10000000 loops, best of 3: 17.2 ns per loop\n"
     ]
    }
   ],
   "source": [
    "%timeit #%timeはipythonの計測時間を計るコマンド\n",
    "for i in xrange(1,10):\n",
    "    bad_method(adress_list)"
   ]
  },
  {
   "cell_type": "code",
   "execution_count": 3,
   "metadata": {
    "collapsed": false
   },
   "outputs": [
    {
     "name": "stdout",
     "output_type": "stream",
     "text": [
      "The slowest run took 73.33 times longer than the fastest. This could mean that an intermediate result is being cached \n",
      "100000000 loops, best of 3: 16.3 ns per loop\n"
     ]
    }
   ],
   "source": [
    "%timeit #%timeはipythonの計測時間を計るコマンド\n",
    "for i in xrange(1,10):\n",
    "    good_method(adress_list)"
   ]
  },
  {
   "cell_type": "markdown",
   "metadata": {},
   "source": [
    "### 複雑な式をテーブル参照に置き換える\n",
    "- カテゴリ番号をA,B,Cに割り振る例\n",
    "\n",
    "### ループ\n",
    "### ループ外分岐\n",
    "- 外に出せる分岐はループの外に出す\n",
    "- [疑問]foreachがある中、いまは使わない？\n",
    "- [疑問]コードがかけなかった→辞書の値として関数を代入する"
   ]
  },
  {
   "cell_type": "code",
   "execution_count": 3,
   "metadata": {
    "collapsed": false
   },
   "outputs": [],
   "source": [
    "data_list =[ \n",
    "    [\"SUMTYPE_NET\",1],\n",
    "    [\"\",2],\n",
    "    [\"SUMTYPE_NET\",3],\n",
    "    [\"SUMTYPE_NET\",2],\n",
    "    [\"SUMTYPE_NET\",2],\n",
    "    [\"\",3],\n",
    "    [\"\",2],\n",
    "    [\"SUMTYPE_NET\",2]]\n",
    "\n",
    "def bad():\n",
    "    net_sum = 0 \n",
    "    gross_sum = 0\n",
    "    for i in xrange(0,len(data_list)):\n",
    "        if (data_list[i][0] == \"SUMTYPE_NET\"):\n",
    "            net_sum += data_list[i][1]\n",
    "        else:\n",
    "            gross_sum +=data_list[i][1]\n",
    "            \n",
    "##書けなかった・・・\n",
    "def good():\n",
    "    net_sum = 0 \n",
    "    gross_sum = 0\n",
    "    \n",
    "    for i in xrange(0,len(data_list)):\n",
    "        if (data_list[i][0] == \"SUMTYPE_NET\"):\n",
    "            net_sum += data_list[i][1]\n",
    "        else:\n",
    "            gross_sum +=data_list[i][1]"
   ]
  },
  {
   "cell_type": "code",
   "execution_count": 4,
   "metadata": {
    "collapsed": false
   },
   "outputs": [
    {
     "name": "stdout",
     "output_type": "stream",
     "text": [
      "The slowest run took 4.09 times longer than the fastest. This could mean that an intermediate result is being cached \n",
      "1000000 loops, best of 3: 1.75 µs per loop\n"
     ]
    }
   ],
   "source": [
    "%timeit bad()"
   ]
  },
  {
   "cell_type": "markdown",
   "metadata": {},
   "source": [
    "## ジャミング（フュージョン）\n",
    "- ２つのループを組み合わせることでオーバーヘッドを減らす"
   ]
  },
  {
   "cell_type": "code",
   "execution_count": 23,
   "metadata": {
    "collapsed": true
   },
   "outputs": [],
   "source": [
    "data_list =[ \n",
    "    [\"iida\",100],\n",
    "    [\"oura\",200],\n",
    "    [\"shibuya\",300],\n",
    "    [\"nakane\",250]]\n",
    "\n",
    "def bad():\n",
    "    for data in data_list:\n",
    "        name = data_list[0]\n",
    "\n",
    "    for data in data_list:\n",
    "        score = data_list[1]\n",
    "        \n",
    "def good():\n",
    "    for data in data_list:\n",
    "        name = data_list[0]\n",
    "        score = data_list[1]"
   ]
  },
  {
   "cell_type": "code",
   "execution_count": 24,
   "metadata": {
    "collapsed": false
   },
   "outputs": [
    {
     "name": "stdout",
     "output_type": "stream",
     "text": [
      "The slowest run took 4.55 times longer than the fastest. This could mean that an intermediate result is being cached \n",
      "1000000 loops, best of 3: 682 ns per loop\n"
     ]
    }
   ],
   "source": [
    "%timeit bad()"
   ]
  },
  {
   "cell_type": "code",
   "execution_count": 25,
   "metadata": {
    "collapsed": false
   },
   "outputs": [
    {
     "name": "stdout",
     "output_type": "stream",
     "text": [
      "The slowest run took 6.78 times longer than the fastest. This could mean that an intermediate result is being cached \n",
      "1000000 loops, best of 3: 563 ns per loop\n"
     ]
    }
   ],
   "source": [
    "%timeit good()"
   ]
  },
  {
   "cell_type": "markdown",
   "metadata": {},
   "source": [
    "### 展開\n",
    "- for文などで、１ループで扱う内容を増やすこと\n",
    "- 終了条件の判断コストが大きい時（終了条件を計算してもとめるとか）は終了条件の判断回数を削減できるということでメリットがおおきい"
   ]
  },
  {
   "cell_type": "code",
   "execution_count": 26,
   "metadata": {
    "collapsed": false
   },
   "outputs": [],
   "source": [
    "data_list =[ \n",
    "    [\"iida\",100],\n",
    "    [\"oura\",200],\n",
    "    [\"shibuya\",300],\n",
    "    [\"nakane\",250],\n",
    "    [\"iida\",100],\n",
    "    [\"oura\",200],\n",
    "    [\"shibuya\",300],\n",
    "    [\"nakane\",250]]\n",
    "\n",
    "def good():\n",
    "    sum = 0\n",
    "    for i in xrange(0,8,2):\n",
    "        sum +=  data_list[i][1]\n",
    "        sum +=  data_list[i+1][1]\n",
    "    return sum\n",
    "\n",
    "def bad():\n",
    "    sum = 0\n",
    "    for i in xrange(0,8):\n",
    "        sum +=  data_list[i][1]\n",
    "    return sum\n",
    "\n",
    "def normal():\n",
    "    sum = 0\n",
    "    for d in data_list:\n",
    "        sum +=  d[1]\n",
    "    return sum\n"
   ]
  },
  {
   "cell_type": "code",
   "execution_count": 23,
   "metadata": {
    "collapsed": false
   },
   "outputs": [
    {
     "name": "stdout",
     "output_type": "stream",
     "text": [
      "The slowest run took 5.71 times longer than the fastest. This could mean that an intermediate result is being cached \n",
      "1000000 loops, best of 3: 1.21 µs per loop\n"
     ]
    }
   ],
   "source": [
    "%timeit  good()"
   ]
  },
  {
   "cell_type": "code",
   "execution_count": 24,
   "metadata": {
    "collapsed": false
   },
   "outputs": [
    {
     "name": "stdout",
     "output_type": "stream",
     "text": [
      "1000000 loops, best of 3: 1.15 µs per loop\n"
     ]
    }
   ],
   "source": [
    "%timeit  bad()"
   ]
  },
  {
   "cell_type": "code",
   "execution_count": 27,
   "metadata": {
    "collapsed": false
   },
   "outputs": [
    {
     "name": "stdout",
     "output_type": "stream",
     "text": [
      "The slowest run took 4.79 times longer than the fastest. This could mean that an intermediate result is being cached \n",
      "1000000 loops, best of 3: 647 ns per loop\n"
     ]
    }
   ],
   "source": [
    "%timeit  normal()"
   ]
  },
  {
   "cell_type": "code",
   "execution_count": 28,
   "metadata": {
    "collapsed": false
   },
   "outputs": [
    {
     "data": {
      "text/plain": [
       "(1700, 1700, 1700)"
      ]
     },
     "execution_count": 28,
     "metadata": {},
     "output_type": "execute_result"
    }
   ],
   "source": [
    "bad(),good(),normal()"
   ]
  },
  {
   "cell_type": "markdown",
   "metadata": {},
   "source": [
    "## ループ内の処理の最小化\n",
    "- ループの外でできるものはできるだけ、ループの外で実施する\n",
    "\n",
    "## sentinel値の利用\n",
    "- forループなどを抜け出す条件が複雑な条件の場合、検索が終了したことをハンドリングするためのsentinel値を置くことで、終了判定が高速化される\n",
    "\n",
    "## 最もbusyなループを内側に\n",
    "- 内側にすることで計算量が削減できる\n",
    "    - forのインデックスの初期化のコストなど"
   ]
  },
  {
   "cell_type": "code",
   "execution_count": 41,
   "metadata": {
    "collapsed": false
   },
   "outputs": [],
   "source": [
    "def good():\n",
    "    x = 0\n",
    "    for i in xrange(1,11):\n",
    "        for j in xrange(1,10000):\n",
    "            x += 1\n",
    "\n",
    "def bad():\n",
    "    x = 0\n",
    "    for i in xrange(1,10000):\n",
    "        for j in xrange(1,11):\n",
    "            x += 1"
   ]
  },
  {
   "cell_type": "code",
   "execution_count": 42,
   "metadata": {
    "collapsed": false
   },
   "outputs": [
    {
     "name": "stdout",
     "output_type": "stream",
     "text": [
      "100 loops, best of 3: 4.57 ms per loop\n"
     ]
    }
   ],
   "source": [
    "%timeit  good()"
   ]
  },
  {
   "cell_type": "code",
   "execution_count": 43,
   "metadata": {
    "collapsed": false
   },
   "outputs": [
    {
     "name": "stdout",
     "output_type": "stream",
     "text": [
      "100 loops, best of 3: 7.7 ms per loop\n"
     ]
    }
   ],
   "source": [
    "%timeit  bad()"
   ]
  },
  {
   "cell_type": "markdown",
   "metadata": {},
   "source": [
    "## 強度の削減\n",
    "- 積算を和で表現するなど、簡単な計算でできるように変換する\n",
    "- [疑問]pythonだと普通にしたほうがはやかった？"
   ]
  },
  {
   "cell_type": "code",
   "execution_count": 71,
   "metadata": {
    "collapsed": true
   },
   "outputs": [],
   "source": [
    "def bad():\n",
    "    x = 2\n",
    "    y = 3\n",
    "    for i in xrange(1,1001):\n",
    "        return x * y\n",
    "\n",
    "def good():\n",
    "    x = 2\n",
    "    y = 3\n",
    "    for i in xrange(1,1001):\n",
    "        return x + x + x"
   ]
  },
  {
   "cell_type": "code",
   "execution_count": 72,
   "metadata": {
    "collapsed": false
   },
   "outputs": [
    {
     "name": "stdout",
     "output_type": "stream",
     "text": [
      "The slowest run took 5.92 times longer than the fastest. This could mean that an intermediate result is being cached \n",
      "1000000 loops, best of 3: 483 ns per loop\n"
     ]
    }
   ],
   "source": [
    "%timeit  good()"
   ]
  },
  {
   "cell_type": "code",
   "execution_count": 73,
   "metadata": {
    "collapsed": false
   },
   "outputs": [
    {
     "name": "stdout",
     "output_type": "stream",
     "text": [
      "The slowest run took 5.89 times longer than the fastest. This could mean that an intermediate result is being cached \n",
      "1000000 loops, best of 3: 486 ns per loop\n"
     ]
    }
   ],
   "source": [
    "%timeit  bad()"
   ]
  },
  {
   "cell_type": "markdown",
   "metadata": {},
   "source": [
    "## データ変換\n",
    "## 浮動小数から整数に\n",
    "- 使えるところでは、浮動小数を使わず整数を使う\n",
    "- [疑問]テキストではループインデックスに浮動小数でなく、整数と書いてあるが、そもそもループインデックスに浮動小数はご法度では？\n",
    "- [疑問]無理やりこのテクニックを使うおうとおもうと、型変換の時間も考慮しないといけないとおもう"
   ]
  },
  {
   "cell_type": "code",
   "execution_count": 68,
   "metadata": {
    "collapsed": true
   },
   "outputs": [],
   "source": [
    "def bad():\n",
    "    x = 1.0\n",
    "    for i in xrange(1,1001):\n",
    "        x += i\n",
    "        return x\n",
    "\n",
    "def good():\n",
    "    x = 1\n",
    "    for i in xrange(1,1001):\n",
    "        x += i\n",
    "        return x"
   ]
  },
  {
   "cell_type": "code",
   "execution_count": 69,
   "metadata": {
    "collapsed": false
   },
   "outputs": [
    {
     "name": "stdout",
     "output_type": "stream",
     "text": [
      "The slowest run took 6.24 times longer than the fastest. This could mean that an intermediate result is being cached \n",
      "1000000 loops, best of 3: 459 ns per loop\n"
     ]
    }
   ],
   "source": [
    "%timeit  good()"
   ]
  },
  {
   "cell_type": "code",
   "execution_count": 70,
   "metadata": {
    "collapsed": false
   },
   "outputs": [
    {
     "name": "stdout",
     "output_type": "stream",
     "text": [
      "The slowest run took 7.95 times longer than the fastest. This could mean that an intermediate result is being cached \n",
      "1000000 loops, best of 3: 510 ns per loop\n"
     ]
    }
   ],
   "source": [
    "%timeit  bad()"
   ]
  },
  {
   "cell_type": "markdown",
   "metadata": {},
   "source": [
    "## 配列の次元数の削減\n",
    "- 高次元のものを、低次元で表現可能であれば、そうする"
   ]
  },
  {
   "cell_type": "code",
   "execution_count": 93,
   "metadata": {
    "collapsed": false
   },
   "outputs": [],
   "source": [
    "#400次元を扱う\n",
    "#Pythonのリストの要素は値の入れ物ではなく、ポインタとして働くので、\n",
    "#n*[m*[0]]みたいな配列らしきものを作ると一箇所書き換えただけで、それを参照する部分が全部変わってしまう\n",
    "\n",
    "def bad():\n",
    "    list = [[0 for col in range(20)] for row in range(20)]\n",
    "\n",
    "def good():\n",
    "   list = [0]*400\n",
    "\n",
    "import numpy as np\n",
    "def nmpy():\n",
    "   list =  np.zeros((20,20))"
   ]
  },
  {
   "cell_type": "code",
   "execution_count": 96,
   "metadata": {
    "collapsed": false
   },
   "outputs": [
    {
     "name": "stdout",
     "output_type": "stream",
     "text": [
      "100000 loops, best of 3: 2.32 µs per loop\n"
     ]
    }
   ],
   "source": [
    "%timeit  good()"
   ]
  },
  {
   "cell_type": "code",
   "execution_count": 97,
   "metadata": {
    "collapsed": false
   },
   "outputs": [
    {
     "name": "stdout",
     "output_type": "stream",
     "text": [
      "10000 loops, best of 3: 47 µs per loop\n"
     ]
    }
   ],
   "source": [
    "%timeit  bad()"
   ]
  },
  {
   "cell_type": "code",
   "execution_count": 98,
   "metadata": {
    "collapsed": false
   },
   "outputs": [
    {
     "name": "stdout",
     "output_type": "stream",
     "text": [
      "The slowest run took 14.74 times longer than the fastest. This could mean that an intermediate result is being cached \n",
      "1000000 loops, best of 3: 809 ns per loop\n"
     ]
    }
   ],
   "source": [
    "%timeit  nmpy()"
   ]
  },
  {
   "cell_type": "markdown",
   "metadata": {},
   "source": [
    "## 配列参照の削減\n",
    "- ループの内側で配列の参照をなるべく避ける\n",
    "\n",
    "## 補助的なインデックスの使用\n",
    "- データ型へのアクセスを高速にする方法\n",
    "### 文字列の長さのインデックス\n",
    "- cなどでは文字列の長さを調べるのに、文字列のの終端の0x00まで、順番にカウントしないといけない\n",
    "- 文字列の長さをあらかじめ記録しておくという方法\n",
    "- [疑問]c言語とか以外で意味があるのか？実際につかうか？\n",
    "### 独立した並列インデックス\n",
    "- [疑問]意味がわからなかった"
   ]
  },
  {
   "cell_type": "markdown",
   "metadata": {},
   "source": [
    "## キャッシュの使用\n",
    "- 呼び出すたびに計算するのではなく、計算結果を保持しておく\n",
    "\n",
    "## 式\n",
    "## 代表的な恒等式の利用\n",
    "- 条件式を複雑なものからシンプルなものにする"
   ]
  },
  {
   "cell_type": "code",
   "execution_count": 111,
   "metadata": {
    "collapsed": true
   },
   "outputs": [],
   "source": [
    "def bad():\n",
    "    x = 0\n",
    "    a = [True,True,False,False,True,True,False,False,True,True,False,False]\n",
    "    b = [True,False,True,False,True,False,True,False,True,False,True,False]\n",
    "    for i in xrange(0,len(a)):\n",
    "        if (not(a[i] or b[i])):\n",
    "            x\n",
    "\n",
    "def good():\n",
    "    x = 0\n",
    "    a = [True,True,False,False]\n",
    "    b = [True,False,True,False]\n",
    "    for i in xrange(0,len(a)):\n",
    "        if (not(a[i] or b[i])):\n",
    "            x"
   ]
  },
  {
   "cell_type": "code",
   "execution_count": 112,
   "metadata": {
    "collapsed": false
   },
   "outputs": [
    {
     "name": "stdout",
     "output_type": "stream",
     "text": [
      "1000000 loops, best of 3: 1.17 µs per loop\n"
     ]
    }
   ],
   "source": [
    "%timeit  good()"
   ]
  },
  {
   "cell_type": "code",
   "execution_count": 113,
   "metadata": {
    "collapsed": false
   },
   "outputs": [
    {
     "name": "stdout",
     "output_type": "stream",
     "text": [
      "The slowest run took 4.20 times longer than the fastest. This could mean that an intermediate result is being cached \n",
      "100000 loops, best of 3: 1.87 µs per loop\n"
     ]
    }
   ],
   "source": [
    "%timeit  bad()"
   ]
  },
  {
   "cell_type": "markdown",
   "metadata": {},
   "source": [
    "## 強度削減の使用\n",
    "- 掛け算を足し算に\n",
    "- 指数関数を掛け算に\n",
    "- 三角法を同等の手段に\n",
    "- longlong型をlong型・int型に変える\n",
    "- 浮動小数を固定小数・整数に変える\n",
    "- シフト演算をつかう\n",
    "\n",
    "## コンパイル時の初期化\n",
    "- メソッドの引数がマジックナンバや固定値の場合、動的に変化しないため、あらかじめ計算できる\n",
    "\n",
    "## システムルーチンへの警戒\n",
    "- システムで提供されるメソッドは、過度に精度が高いものがあるので、精度が必要無い場合は無駄な計算をしている場合がある\n",
    "\n",
    "## 正しい型の定数の使用\n",
    "- 定数を宣言するとき、宣言型と同じ型を入れるようにしないといけない\n",
    "- ただし、よくできたコンパイラはコンパイル時に型変換するため、パフォーマンスに影響しない\n",
    "\n",
    "## 計算済みの結果\n",
    "- 計算をキャッシュしておくことで、計算コストを下げる\n",
    "\n",
    "\n",
    "## ルーチン\n",
    "## ルーチンのインライン化\n",
    "- 昔のプログラムでは、プログラムswap outし、ループを実行し、swap inするというペナルティが強かったらしい\n",
    "- いまはあまり気にしなくてもよい\n",
    "\n",
    "## 低水準言語への置き換え\n",
    " - pythonで書いているなら、遅い部分をCで書く\n",
    "\n",
    "### やり方\n",
    "1. アプリケーションを100%高級言語で書く\n",
    "1. アプリケーションのテストを完全に行い、振る舞いを保証する\n",
    "1. アプリケーションを測定して、パフォーマンス問題があるホットスポットを探る\n",
    "    - プログラムの5%が実行時間の50%を占めるので特定が必要\n",
    "1. その部分を低級言語で書く\n"
   ]
  },
  {
   "cell_type": "code",
   "execution_count": null,
   "metadata": {
    "collapsed": true
   },
   "outputs": [],
   "source": []
  }
 ],
 "metadata": {
  "kernelspec": {
   "display_name": "Python 2",
   "language": "python",
   "name": "python2"
  },
  "language_info": {
   "codemirror_mode": {
    "name": "ipython",
    "version": 2
   },
   "file_extension": ".py",
   "mimetype": "text/x-python",
   "name": "python",
   "nbconvert_exporter": "python",
   "pygments_lexer": "ipython2",
   "version": "2.7.8"
  }
 },
 "nbformat": 4,
 "nbformat_minor": 0
}
